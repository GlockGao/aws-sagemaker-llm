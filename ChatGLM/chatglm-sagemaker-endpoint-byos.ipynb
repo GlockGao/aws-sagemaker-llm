{
 "cells": [
  {
   "cell_type": "markdown",
   "id": "1515c592-35a8-4d34-ad3c-d9606e31a590",
   "metadata": {
    "tags": []
   },
   "source": [
    "# 1. 升级python SDK"
   ]
  },
  {
   "cell_type": "code",
   "execution_count": null,
   "id": "237cd79f-f15d-4a66-8207-a84ca06904d1",
   "metadata": {
    "tags": []
   },
   "outputs": [],
   "source": [
    "!pip install --upgrade boto3\n",
    "!pip install --upgrade sagemaker"
   ]
  },
  {
   "cell_type": "markdown",
   "id": "672266a3-fca5-4a28-996c-619ac2ff447f",
   "metadata": {},
   "source": [
    "# 2. 获取Runtime资源配置"
   ]
  },
  {
   "cell_type": "code",
   "execution_count": null,
   "id": "9dfe8c4c-cb83-4306-a823-3b0eb119b47e",
   "metadata": {
    "tags": []
   },
   "outputs": [],
   "source": [
    "import boto3\n",
    "import sagemaker\n",
    "from sagemaker import get_execution_role\n",
    "\n",
    "sess                     = sagemaker.Session()\n",
    "role                     = get_execution_role()\n",
    "sagemaker_default_bucket = sess.default_bucket()\n",
    "\n",
    "account                  = sess.boto_session.client(\"sts\").get_caller_identity()[\"Account\"]\n",
    "region                   = sess.boto_session.region_name"
   ]
  },
  {
   "cell_type": "markdown",
   "id": "dd0ba3a5-98aa-42d6-bcac-a17267f871ab",
   "metadata": {},
   "source": [
    "# 3. 准备Dummy模型"
   ]
  },
  {
   "cell_type": "code",
   "execution_count": null,
   "id": "69f4f381-8a0c-429f-8929-bf17993f5eb2",
   "metadata": {
    "tags": []
   },
   "outputs": [],
   "source": [
    "!touch dummy\n",
    "!tar czvf model.tar.gz dummy\n",
    "assets_dir = 's3://{0}/{1}/assets/'.format(sagemaker_default_bucket, 'chatglm')\n",
    "model_data = 's3://{0}/{1}/assets/model.tar.gz'.format(sagemaker_default_bucket, 'chatglm')\n",
    "!aws s3 cp model.tar.gz $assets_dir\n",
    "!rm -f dummy model.tar.gz"
   ]
  },
  {
   "cell_type": "markdown",
   "id": "f52cba0a-5e6a-4398-a96c-afee138aaea6",
   "metadata": {},
   "source": [
    "# 4. 配置模型参数"
   ]
  },
  {
   "cell_type": "code",
   "execution_count": null,
   "id": "9044a71c-1d9c-401e-b8c8-5403d62b0db8",
   "metadata": {
    "tags": []
   },
   "outputs": [],
   "source": [
    "model_name        = None\n",
    "entry_point       = 'chatglm-inference.py'\n",
    "framework_version = '1.13.1'\n",
    "py_version        = 'py39'\n",
    "model_environment = {\n",
    "    'SAGEMAKER_MODEL_SERVER_TIMEOUT': '600', \n",
    "    'SAGEMAKER_MODEL_SERVER_WORKERS': '1', \n",
    "}"
   ]
  },
  {
   "cell_type": "code",
   "execution_count": null,
   "id": "cf1895b1-ec06-4146-b439-93fada697a3c",
   "metadata": {
    "tags": []
   },
   "outputs": [],
   "source": [
    "from sagemaker.pytorch.model import PyTorchModel\n",
    "\n",
    "model = PyTorchModel(\n",
    "    name              = model_name,\n",
    "    model_data        = model_data,\n",
    "    entry_point       = entry_point,\n",
    "    source_dir        = './code',\n",
    "    role              = role,\n",
    "    framework_version = framework_version, \n",
    "    py_version        = py_version,\n",
    "    env               = model_environment\n",
    ")"
   ]
  },
  {
   "cell_type": "markdown",
   "id": "a96a21f5-4b42-4701-8d88-3fbc6d0d15a0",
   "metadata": {},
   "source": [
    "# 5. 部署ChatGLM模型"
   ]
  },
  {
   "cell_type": "code",
   "execution_count": null,
   "id": "dd128a89-da86-4474-b96c-f061ad1f2b6e",
   "metadata": {
    "tags": []
   },
   "outputs": [],
   "source": [
    "\n",
    "from sagemaker.serializers import JSONSerializer\n",
    "from sagemaker.deserializers import JSONDeserializer\n",
    "\n",
    "endpoint_name         = None\n",
    "instance_type         = 'ml.g4dn.2xlarge'\n",
    "instance_count        = 1\n",
    "\n",
    "predictor = model.deploy(\n",
    "    endpoint_name          = endpoint_name,\n",
    "    instance_type          = instance_type, \n",
    "    initial_instance_count = instance_count,\n",
    "    serializer             = JSONSerializer(),\n",
    "    deserializer           = JSONDeserializer()\n",
    ")"
   ]
  },
  {
   "cell_type": "markdown",
   "id": "92d693ef-2298-4f51-b956-100f50479a46",
   "metadata": {},
   "source": [
    "# 6. 测试ChatGLM模型推理"
   ]
  },
  {
   "cell_type": "code",
   "execution_count": null,
   "id": "ee05fcfc-89a1-45fb-85ea-1681a1316a77",
   "metadata": {
    "tags": []
   },
   "outputs": [],
   "source": [
    "inputs = {\n",
    "    \"ask\": \"你好!\"\n",
    "\n",
    "}\n",
    "\n",
    "response = predictor.predict(inputs)\n",
    "print(response[\"answer\"])\n"
   ]
  },
  {
   "cell_type": "code",
   "execution_count": null,
   "id": "3acd1f6f-6172-4326-8390-3f3a75361898",
   "metadata": {
    "tags": []
   },
   "outputs": [],
   "source": [
    "inputs = {\n",
    "    \"ask\": \"类型#上衣\\*材质#牛仔布\\*颜色#白色\\*风格#简约\\*图案#刺绣\\*衣样式#外套\\*衣款式#破洞\"\n",
    "\n",
    "}\n",
    "\n",
    "response = predictor.predict(inputs)\n",
    "print(response[\"answer\"])\n"
   ]
  },
  {
   "cell_type": "code",
   "execution_count": null,
   "id": "acf51fa5-7ee0-49dc-8727-aea13dfb193f",
   "metadata": {},
   "outputs": [],
   "source": []
  }
 ],
 "metadata": {
  "kernelspec": {
   "display_name": "conda_python3",
   "language": "python",
   "name": "conda_python3"
  },
  "language_info": {
   "codemirror_mode": {
    "name": "ipython",
    "version": 3
   },
   "file_extension": ".py",
   "mimetype": "text/x-python",
   "name": "python",
   "nbconvert_exporter": "python",
   "pygments_lexer": "ipython3",
   "version": "3.10.8"
  }
 },
 "nbformat": 4,
 "nbformat_minor": 5
}
