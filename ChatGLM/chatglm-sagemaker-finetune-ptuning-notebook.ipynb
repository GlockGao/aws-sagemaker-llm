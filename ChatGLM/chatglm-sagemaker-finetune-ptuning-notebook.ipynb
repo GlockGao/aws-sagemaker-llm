{
 "cells": [
  {
   "cell_type": "markdown",
   "id": "f25d98fb-9a1e-4f98-b3fd-10b8ae565583",
   "metadata": {
    "tags": []
   },
   "source": [
    "# 1. 准备基础环境"
   ]
  },
  {
   "cell_type": "markdown",
   "id": "751bc8af-7e6d-443c-9ee3-b4fd42575282",
   "metadata": {},
   "source": [
    "## 1.1 升级Python SDK"
   ]
  },
  {
   "cell_type": "code",
   "execution_count": null,
   "id": "c7794a87-f631-4925-bb2d-a8355225a097",
   "metadata": {
    "tags": []
   },
   "outputs": [],
   "source": [
    "!pip install --upgrade boto3\n",
    "!pip install --upgrade sagemaker"
   ]
  },
  {
   "cell_type": "markdown",
   "id": "e3fde6af-3414-478f-be27-6e28203c36c9",
   "metadata": {},
   "source": [
    "## 1.2 获取Runtime资源配置"
   ]
  },
  {
   "cell_type": "code",
   "execution_count": null,
   "id": "9dfe8c4c-cb83-4306-a823-3b0eb119b47e",
   "metadata": {
    "tags": []
   },
   "outputs": [],
   "source": [
    "import boto3\n",
    "import sagemaker\n",
    "from sagemaker import get_execution_role\n",
    "\n",
    "sess = sagemaker.Session()\n",
    "role = get_execution_role()\n",
    "sagemaker_default_bucket = sess.default_bucket()\n",
    "\n",
    "account = sess.boto_session.client(\"sts\").get_caller_identity()[\"Account\"]\n",
    "region = sess.boto_session.region_name"
   ]
  },
  {
   "cell_type": "markdown",
   "id": "6e3c24bc-c06b-4cc6-b178-46213c471e4d",
   "metadata": {},
   "source": [
    "# 1.3 更新Docker镜像存储位置\n",
    "\n",
    "避免后续执行、训练出现“No Space Left”错误,提前更新Docker镜像存储位置<br>\n",
    "只需执行一次,避免引起Docker运行错误"
   ]
  },
  {
   "cell_type": "code",
   "execution_count": null,
   "id": "a7b23d06-5582-43d0-a37c-1cdc87910cb6",
   "metadata": {},
   "outputs": [],
   "source": [
    "! sudo systemctl stop docker\n",
    "! sudo systemctl stop docker.socket\n",
    "! sudo mv /var/lib/docker /home/ec2-user/SageMaker \n",
    "! sudo ln -s /home/ec2-user/SageMaker/docker /var/lib/docker \n",
    "! sudo systemctl start docker.socket\n",
    "! sudo systemctl start docker"
   ]
  },
  {
   "cell_type": "markdown",
   "id": "23a16e22-ad1a-44b3-a174-b0f6a8a96c80",
   "metadata": {},
   "source": [
    "# 2. 准备微调模型"
   ]
  },
  {
   "cell_type": "markdown",
   "id": "0ff91a8e-44e6-47e3-8eb5-1a458476d28f",
   "metadata": {},
   "source": [
    "## 2.1 克隆ChatGLM代码"
   ]
  },
  {
   "cell_type": "code",
   "execution_count": null,
   "id": "44baf3b5-8eed-4388-8ffe-005d53a3fa92",
   "metadata": {
    "tags": []
   },
   "outputs": [],
   "source": [
    "%%script bash\n",
    "rm -rf ChatGLM-6B\n",
    "git clone https://github.com/THUDM/ChatGLM-6B.git\n",
    "cd ChatGLM-6B\n",
    "git checkout 163f94e160f08751545e3722730f1832d73b92d1\n"
   ]
  },
  {
   "cell_type": "markdown",
   "id": "19d9a1eb-f83f-4b18-9a0b-ee83adbbb621",
   "metadata": {},
   "source": [
    "## 2.2 下载数据集\n",
    "\n",
    "广告数据集:根据输入,输出广告词,如下所示:\n",
    "\n",
    "{  \n",
    "    \"content\": \"类型#上衣*版型#宽松*版型#显瘦*图案#线条*衣样式#衬衫*衣袖型#泡泡袖*衣款式#抽绳\",  \n",
    "    \"summary\": \"这件衬衫的款式非常的宽松，利落的线条可以很好的隐藏身材上的小缺点，穿在身上有着很好的显瘦效果。领口装饰了一个可爱的抽绳，漂亮的绳结展现出了十足的个性，配合时尚的泡泡袖型，尽显女性甜美可爱的气息。\"  \n",
    "}"
   ]
  },
  {
   "cell_type": "code",
   "execution_count": null,
   "id": "41c50a39-37e9-4308-b7c0-66693862b729",
   "metadata": {
    "tags": []
   },
   "outputs": [],
   "source": [
    "# 下载 ADGEN 数据集\n",
    "!wget -O AdvertiseGen.tar.gz https://cloud.tsinghua.edu.cn/f/b3f119a008264b1cabd1/?dl=1\n",
    "\n",
    "# 解压数据集\n",
    "!tar -xzvf AdvertiseGen.tar.gz"
   ]
  },
  {
   "cell_type": "markdown",
   "id": "8d1790e2-5800-411d-8c6c-af26618670a7",
   "metadata": {},
   "source": [
    "## 2.3 下载ChatGLM原始模型"
   ]
  },
  {
   "cell_type": "code",
   "execution_count": null,
   "id": "ee05fcfc-89a1-45fb-85ea-1681a1316a77",
   "metadata": {
    "tags": []
   },
   "outputs": [],
   "source": [
    "!pip install huggingface_hub"
   ]
  },
  {
   "cell_type": "code",
   "execution_count": null,
   "id": "3acd1f6f-6172-4326-8390-3f3a75361898",
   "metadata": {
    "tags": []
   },
   "outputs": [],
   "source": [
    "from huggingface_hub import snapshot_download\n",
    "from pathlib import Path\n",
    "\n",
    "\n",
    "local_cache_path = Path(\"./model\")\n",
    "local_cache_path.mkdir(exist_ok=True)\n",
    "\n",
    "model_name = \"THUDM/chatglm-6b\"\n",
    "\n",
    "# Only download pytorch checkpoint files\n",
    "allow_patterns = [\"*.json\", \"*.pt\", \"*.bin\", \"*.model\", \"*.py\"]\n",
    "\n",
    "model_download_path = snapshot_download(\n",
    "    repo_id=model_name,\n",
    "    cache_dir=local_cache_path,\n",
    "    allow_patterns=allow_patterns,\n",
    ")"
   ]
  },
  {
   "cell_type": "code",
   "execution_count": null,
   "id": "42c0ce80-883b-46bf-a642-e8f69a5fdaab",
   "metadata": {
    "tags": []
   },
   "outputs": [],
   "source": [
    "# Get the model files path\n",
    "import os\n",
    "from glob import glob\n",
    "\n",
    "local_model_path = None\n",
    "\n",
    "paths = os.walk(r'./model')\n",
    "for root, dirs, files in paths:\n",
    "    for file in files:\n",
    "        if file == 'config.json':\n",
    "            # print(os.path.join(root, file))\n",
    "            local_model_path = str(os.path.join(root, file))[0:-11]\n",
    "            print(local_model_path)\n",
    "if local_model_path == None:\n",
    "    print(\"Model download may failed, please check prior step!\")"
   ]
  },
  {
   "cell_type": "markdown",
   "id": "53a7c26c-952d-4c07-83e5-646efed110fb",
   "metadata": {},
   "source": [
    "## 2.4 将数据集和模型拷贝到S3"
   ]
  },
  {
   "cell_type": "code",
   "execution_count": null,
   "id": "088797c9-5995-4c6e-bded-d373e58cad80",
   "metadata": {
    "tags": []
   },
   "outputs": [],
   "source": [
    "%%script env sagemaker_default_bucket=$sagemaker_default_bucket local_model_path=$local_model_path bash\n",
    "\n",
    "chmod +x ./s5cmd\n",
    "./s5cmd sync ${local_model_path} s3://${sagemaker_default_bucket}/llm/models/chatglm/original-6B/\n",
    "./s5cmd sync ./AdvertiseGen/ s3://${sagemaker_default_bucket}/llm/datasets/chatglm/AdvertiseGen/\n",
    "\n",
    "rm -rf model\n",
    "# rm -rf AdvertiseGen\n",
    "rm -rf AdvertiseGen.tar.gz"
   ]
  },
  {
   "cell_type": "markdown",
   "id": "800caa83-69d8-433b-980a-23cd2e6cb50b",
   "metadata": {
    "tags": []
   },
   "source": [
    "# 3. 开始微调模型"
   ]
  },
  {
   "cell_type": "markdown",
   "id": "7052d461-6f2b-497e-83cc-d90517465e4f",
   "metadata": {
    "tags": []
   },
   "source": [
    "## 3.1 准备微调代码"
   ]
  },
  {
   "cell_type": "code",
   "execution_count": null,
   "id": "87c80278-69f6-42c8-a15e-22e64d240b76",
   "metadata": {
    "tags": []
   },
   "outputs": [],
   "source": [
    "%%writefile ChatGLM-6B/ptuning/arguments.py\n",
    "\n",
    "from dataclasses import dataclass, field\n",
    "from typing import Optional\n",
    "\n",
    "\n",
    "@dataclass\n",
    "class ModelArguments:\n",
    "    \"\"\"\n",
    "    Arguments pertaining to which model/config/tokenizer we are going to fine-tune from.\n",
    "    \"\"\"\n",
    "    \n",
    "    model_output_s3_path: str = field(\n",
    "        metadata={\"help\": \"Path to model saved in s3 path using s5cmd utily\"}\n",
    "    )\n",
    "\n",
    "    model_name_or_path: str = field(\n",
    "        metadata={\"help\": \"Path to pretrained model or model identifier from huggingface.co/models\"}\n",
    "    )\n",
    "    ptuning_checkpoint: str = field(\n",
    "        default=None, metadata={\"help\": \"Path to p-tuning v2 checkpoints\"}\n",
    "    )\n",
    "    config_name: Optional[str] = field(\n",
    "        default=None, metadata={\"help\": \"Pretrained config name or path if not the same as model_name\"}\n",
    "    )\n",
    "    tokenizer_name: Optional[str] = field(\n",
    "        default=None, metadata={\"help\": \"Pretrained tokenizer name or path if not the same as model_name\"}\n",
    "    )\n",
    "    cache_dir: Optional[str] = field(\n",
    "        default=None,\n",
    "        metadata={\"help\": \"Where to store the pretrained models downloaded from huggingface.co\"},\n",
    "    )\n",
    "    use_fast_tokenizer: bool = field(\n",
    "        default=True,\n",
    "        metadata={\"help\": \"Whether to use one of the fast tokenizer (backed by the tokenizers library) or not.\"},\n",
    "    )\n",
    "    model_revision: str = field(\n",
    "        default=\"main\",\n",
    "        metadata={\"help\": \"The specific model version to use (can be a branch name, tag name or commit id).\"},\n",
    "    )\n",
    "    use_auth_token: bool = field(\n",
    "        default=False,\n",
    "        metadata={\n",
    "            \"help\": (\n",
    "                \"Will use the token generated when running `huggingface-cli login` (necessary to use this script \"\n",
    "                \"with private models).\"\n",
    "            )\n",
    "        },\n",
    "    )\n",
    "    resize_position_embeddings: Optional[bool] = field(\n",
    "        default=None,\n",
    "        metadata={\n",
    "            \"help\": (\n",
    "                \"Whether to automatically resize the position embeddings if `max_source_length` exceeds \"\n",
    "                \"the model's position embeddings.\"\n",
    "            )\n",
    "        },\n",
    "    )\n",
    "    quantization_bit: Optional[int] = field(\n",
    "        default=None\n",
    "    )\n",
    "    pre_seq_len: Optional[int] = field(\n",
    "        default=None\n",
    "    )\n",
    "    prefix_projection: bool = field(\n",
    "        default=False\n",
    "    )\n",
    "\n",
    "\n",
    "@dataclass\n",
    "class DataTrainingArguments:\n",
    "    \"\"\"\n",
    "    Arguments pertaining to what data we are going to input our model for training and eval.\n",
    "    \"\"\"\n",
    "\n",
    "    lang: Optional[str] = field(default=None, metadata={\"help\": \"Language id for summarization.\"})\n",
    "\n",
    "    dataset_name: Optional[str] = field(\n",
    "        default=None, metadata={\"help\": \"The name of the dataset to use (via the datasets library).\"}\n",
    "    )\n",
    "    dataset_config_name: Optional[str] = field(\n",
    "        default=None, metadata={\"help\": \"The configuration name of the dataset to use (via the datasets library).\"}\n",
    "    )\n",
    "    prompt_column: Optional[str] = field(\n",
    "        default=None,\n",
    "        metadata={\"help\": \"The name of the column in the datasets containing the full texts (for summarization).\"},\n",
    "    )\n",
    "    response_column: Optional[str] = field(\n",
    "        default=None,\n",
    "        metadata={\"help\": \"The name of the column in the datasets containing the summaries (for summarization).\"},\n",
    "    )\n",
    "    history_column: Optional[str] = field(\n",
    "        default=None,\n",
    "        metadata={\"help\": \"The name of the column in the datasets containing the history of chat.\"},\n",
    "    )\n",
    "    train_file: Optional[str] = field(\n",
    "        default=None, metadata={\"help\": \"The input training data file (a jsonlines or csv file).\"}\n",
    "    )\n",
    "    validation_file: Optional[str] = field(\n",
    "        default=None,\n",
    "        metadata={\n",
    "            \"help\": (\n",
    "                \"An optional input evaluation data file to evaluate the metrics (rouge) on (a jsonlines or csv file).\"\n",
    "            )\n",
    "        },\n",
    "    )\n",
    "    test_file: Optional[str] = field(\n",
    "        default=None,\n",
    "        metadata={\n",
    "            \"help\": \"An optional input test data file to evaluate the metrics (rouge) on (a jsonlines or csv file).\"\n",
    "        },\n",
    "    )\n",
    "    overwrite_cache: bool = field(\n",
    "        default=False, metadata={\"help\": \"Overwrite the cached training and evaluation sets\"}\n",
    "    )\n",
    "    preprocessing_num_workers: Optional[int] = field(\n",
    "        default=None,\n",
    "        metadata={\"help\": \"The number of processes to use for the preprocessing.\"},\n",
    "    )\n",
    "    max_source_length: Optional[int] = field(\n",
    "        default=1024,\n",
    "        metadata={\n",
    "            \"help\": (\n",
    "                \"The maximum total input sequence length after tokenization. Sequences longer \"\n",
    "                \"than this will be truncated, sequences shorter will be padded.\"\n",
    "            )\n",
    "        },\n",
    "    )\n",
    "    max_target_length: Optional[int] = field(\n",
    "        default=128,\n",
    "        metadata={\n",
    "            \"help\": (\n",
    "                \"The maximum total sequence length for target text after tokenization. Sequences longer \"\n",
    "                \"than this will be truncated, sequences shorter will be padded.\"\n",
    "            )\n",
    "        },\n",
    "    )\n",
    "    val_max_target_length: Optional[int] = field(\n",
    "        default=None,\n",
    "        metadata={\n",
    "            \"help\": (\n",
    "                \"The maximum total sequence length for validation target text after tokenization. Sequences longer \"\n",
    "                \"than this will be truncated, sequences shorter will be padded. Will default to `max_target_length`.\"\n",
    "                \"This argument is also used to override the ``max_length`` param of ``model.generate``, which is used \"\n",
    "                \"during ``evaluate`` and ``predict``.\"\n",
    "            )\n",
    "        },\n",
    "    )\n",
    "    pad_to_max_length: bool = field(\n",
    "        default=False,\n",
    "        metadata={\n",
    "            \"help\": (\n",
    "                \"Whether to pad all samples to model maximum sentence length. \"\n",
    "                \"If False, will pad the samples dynamically when batching to the maximum length in the batch. More \"\n",
    "                \"efficient on GPU but very bad for TPU.\"\n",
    "            )\n",
    "        },\n",
    "    )\n",
    "    max_train_samples: Optional[int] = field(\n",
    "        default=None,\n",
    "        metadata={\n",
    "            \"help\": (\n",
    "                \"For debugging purposes or quicker training, truncate the number of training examples to this \"\n",
    "                \"value if set.\"\n",
    "            )\n",
    "        },\n",
    "    )\n",
    "    max_eval_samples: Optional[int] = field(\n",
    "        default=None,\n",
    "        metadata={\n",
    "            \"help\": (\n",
    "                \"For debugging purposes or quicker training, truncate the number of evaluation examples to this \"\n",
    "                \"value if set.\"\n",
    "            )\n",
    "        },\n",
    "    )\n",
    "    max_predict_samples: Optional[int] = field(\n",
    "        default=None,\n",
    "        metadata={\n",
    "            \"help\": (\n",
    "                \"For debugging purposes or quicker training, truncate the number of prediction examples to this \"\n",
    "                \"value if set.\"\n",
    "            )\n",
    "        },\n",
    "    )\n",
    "    num_beams: Optional[int] = field(\n",
    "        default=None,\n",
    "        metadata={\n",
    "            \"help\": (\n",
    "                \"Number of beams to use for evaluation. This argument will be passed to ``model.generate``, \"\n",
    "                \"which is used during ``evaluate`` and ``predict``.\"\n",
    "            )\n",
    "        },\n",
    "    )\n",
    "    ignore_pad_token_for_loss: bool = field(\n",
    "        default=True,\n",
    "        metadata={\n",
    "            \"help\": \"Whether to ignore the tokens corresponding to padded labels in the loss computation or not.\"\n",
    "        },\n",
    "    )\n",
    "    source_prefix: Optional[str] = field(\n",
    "        default=\"\", metadata={\"help\": \"A prefix to add before every source text (useful for T5 models).\"}\n",
    "    )\n",
    "\n",
    "    forced_bos_token: Optional[str] = field(\n",
    "        default=None,\n",
    "        metadata={\n",
    "            \"help\": (\n",
    "                \"The token to force as the first generated token after the decoder_start_token_id.\"\n",
    "                \"Useful for multilingual models like mBART where the first generated token\"\n",
    "                \"needs to be the target language token (Usually it is the target language token)\"\n",
    "            )\n",
    "        },\n",
    "    )\n",
    "\n",
    "    \n",
    "\n",
    "    def __post_init__(self):\n",
    "        if self.dataset_name is None and self.train_file is None and self.validation_file is None and self.test_file is None:\n",
    "            raise ValueError(\"Need either a dataset name or a training/validation/test file.\")\n",
    "        else:\n",
    "            if self.train_file is not None:\n",
    "                extension = self.train_file.split(\".\")[-1]\n",
    "                assert extension in [\"csv\", \"json\"], \"`train_file` should be a csv or a json file.\"\n",
    "            if self.validation_file is not None:\n",
    "                extension = self.validation_file.split(\".\")[-1]\n",
    "                assert extension in [\"csv\", \"json\"], \"`validation_file` should be a csv or a json file.\"\n",
    "        if self.val_max_target_length is None:\n",
    "            self.val_max_target_length = self.max_target_length\n"
   ]
  },
  {
   "cell_type": "code",
   "execution_count": null,
   "id": "d6d1eed3-b076-4337-938b-7c9d4687347b",
   "metadata": {
    "tags": []
   },
   "outputs": [],
   "source": [
    "%%writefile ChatGLM-6B/ptuning/sm_ptune_train.sh\n",
    "\n",
    "PYTORCH_CUDA_ALLOC_CONF='max_split_size_mb:32'\n",
    "TRAIN_DATASET='/opt/ml/input/data/AdvertiseGen/train.json'\n",
    "TEST_DATASET='/opt/ml/input/data/AdvertiseGen/dev.json'\n",
    "RESPONSE_COLUMN='summary'\n",
    "PROMPT_COLUMN='content'\n",
    "MODEL_NAME_OR_PATH='s3://sagemaker_default_bucket/llm/models/chatglm/original-6B/'\n",
    "OUTPUT_DIR='/opt/ml/model/adgen-chatglm-6b-ft'\n",
    "MODEL_OUTPUT_S3_PATH='s3://sagemaker_default_bucket/llm/models/chatglm/finetune-ptuning-adgen-notebook/'\n",
    "TRAIN_STEPS=50\n",
    "\n",
    "PRE_SEQ_LEN=128 && LR=2e-2 && CUDA_VISIBLE_DEVICES=0 python3 main.py \\\n",
    "    --do_train \\\n",
    "    --train_file $TRAIN_DATASET \\\n",
    "    --validation_file $TEST_DATASET \\\n",
    "    --prompt_column ${PROMPT_COLUMN} \\\n",
    "    --response_column ${RESPONSE_COLUMN}  \\\n",
    "    --overwrite_cache \\\n",
    "    --model_name_or_path ${MODEL_NAME_OR_PATH} \\\n",
    "    --model_output_s3_path ${MODEL_OUTPUT_S3_PATH} \\\n",
    "    --output_dir ${OUTPUT_DIR} \\\n",
    "    --overwrite_output_dir \\\n",
    "    --max_source_length 64 \\\n",
    "    --max_target_length 64 \\\n",
    "    --per_device_train_batch_size 4 \\\n",
    "    --per_device_eval_batch_size 1 \\\n",
    "    --gradient_accumulation_steps 4 \\\n",
    "    --predict_with_generate \\\n",
    "    --max_steps ${TRAIN_STEPS} \\\n",
    "    --logging_steps 10 \\\n",
    "    --save_steps ${TRAIN_STEPS} \\\n",
    "    --learning_rate $LR \\\n",
    "    --pre_seq_len $PRE_SEQ_LEN \\\n",
    "    --quantization_bit 4\n"
   ]
  },
  {
   "cell_type": "code",
   "execution_count": null,
   "id": "ac81b7ef-ad05-4876-82f4-0db3a8be0137",
   "metadata": {
    "tags": []
   },
   "outputs": [],
   "source": [
    "%%script env sagemaker_default_bucket=$sagemaker_default_bucket bash\n",
    "\n",
    "echo $sagemaker_default_bucket\n",
    "sed -i \"s/sagemaker_default_bucket/$sagemaker_default_bucket/g\" ./ChatGLM-6B/ptuning/sm_ptune_train.sh"
   ]
  },
  {
   "cell_type": "code",
   "execution_count": null,
   "id": "5f848ff4-6d25-4d7c-be52-fe045aa9abc4",
   "metadata": {
    "tags": []
   },
   "outputs": [],
   "source": [
    "%%writefile ChatGLM-6B/ptuning/main.py\n",
    "\n",
    "#!/usr/bin/env python\n",
    "# coding=utf-8\n",
    "# Copyright 2021 The HuggingFace Team. All rights reserved.\n",
    "#\n",
    "# Licensed under the Apache License, Version 2.0 (the \"License\");\n",
    "# you may not use this file except in compliance with the License.\n",
    "# You may obtain a copy of the License at\n",
    "#\n",
    "#     http://www.apache.org/licenses/LICENSE-2.0\n",
    "#\n",
    "# Unless required by applicable law or agreed to in writing, software\n",
    "# distributed under the License is distributed on an \"AS IS\" BASIS,\n",
    "# WITHOUT WARRANTIES OR CONDITIONS OF ANY KIND, either express or implied.\n",
    "# See the License for the specific language governing permissions and\n",
    "# limitations under the License.\n",
    "\"\"\"\n",
    "Fine-tuning the library models for sequence to sequence.\n",
    "\"\"\"\n",
    "# You can also adapt this script on your own sequence to sequence task. Pointers for this are left as comments.\n",
    "\n",
    "import logging\n",
    "import os\n",
    "import sys\n",
    "import json\n",
    "\n",
    "import numpy as np\n",
    "from datasets import load_dataset\n",
    "import jieba \n",
    "from rouge_chinese import Rouge\n",
    "from nltk.translate.bleu_score import sentence_bleu, SmoothingFunction\n",
    "import torch\n",
    "\n",
    "import transformers\n",
    "from transformers import (\n",
    "    AutoConfig,\n",
    "    AutoModel,\n",
    "    AutoTokenizer,\n",
    "    DataCollatorForSeq2Seq,\n",
    "    HfArgumentParser,\n",
    "    Seq2SeqTrainingArguments,\n",
    "    set_seed,\n",
    ")\n",
    "from trainer_seq2seq import Seq2SeqTrainer\n",
    "\n",
    "from arguments import ModelArguments, DataTrainingArguments\n",
    "\n",
    "logger = logging.getLogger(__name__)\n",
    "\n",
    "def main():\n",
    "\n",
    "    parser = HfArgumentParser((ModelArguments, DataTrainingArguments, Seq2SeqTrainingArguments))\n",
    "    if len(sys.argv) == 2 and sys.argv[1].endswith(\".json\"):\n",
    "        # If we pass only one argument to the script and it's the path to a json file,\n",
    "        # let's parse it to get our arguments.\n",
    "        model_args, data_args, training_args = parser.parse_json_file(json_file=os.path.abspath(sys.argv[1]))\n",
    "    else:\n",
    "        model_args, data_args, training_args = parser.parse_args_into_dataclasses()\n",
    "\n",
    "    # Setup logging\n",
    "    logging.basicConfig(\n",
    "        format=\"%(asctime)s - %(levelname)s - %(name)s - %(message)s\",\n",
    "        datefmt=\"%m/%d/%Y %H:%M:%S\",\n",
    "        handlers=[logging.StreamHandler(sys.stdout)],\n",
    "    )\n",
    "\n",
    "    if training_args.should_log:\n",
    "        # The default of training_args.log_level is passive, so we set log level at info here to have that default.\n",
    "        transformers.utils.logging.set_verbosity_info()\n",
    "\n",
    "    log_level = training_args.get_process_log_level()\n",
    "    logger.setLevel(log_level)\n",
    "    # datasets.utils.logging.set_verbosity(log_level)\n",
    "    transformers.utils.logging.set_verbosity(log_level)\n",
    "    transformers.utils.logging.enable_default_handler()\n",
    "    transformers.utils.logging.enable_explicit_format()\n",
    "\n",
    "    # Log on each process the small summary:\n",
    "    logger.warning(\n",
    "        f\"Process rank: {training_args.local_rank}, device: {training_args.device}, n_gpu: {training_args.n_gpu}\"\n",
    "        + f\"distributed training: {bool(training_args.local_rank != -1)}, 16-bits training: {training_args.fp16}\"\n",
    "    )\n",
    "    logger.info(f\"Training/evaluation parameters {training_args}\")\n",
    "\n",
    "    # Set seed before initializing model.\n",
    "    set_seed(training_args.seed)\n",
    "\n",
    "    # Load dataset\n",
    "    data_files = {}\n",
    "    if data_args.train_file is not None:\n",
    "        data_files[\"train\"] = data_args.train_file\n",
    "        extension = data_args.train_file.split(\".\")[-1]\n",
    "    if data_args.validation_file is not None:\n",
    "        data_files[\"validation\"] = data_args.validation_file\n",
    "        extension = data_args.validation_file.split(\".\")[-1]\n",
    "    if data_args.test_file is not None:\n",
    "        data_files[\"test\"] = data_args.test_file\n",
    "        extension = data_args.test_file.split(\".\")[-1]\n",
    "\n",
    "    raw_datasets = load_dataset(\n",
    "        extension,\n",
    "        data_files=data_files,\n",
    "        cache_dir=model_args.cache_dir,\n",
    "        use_auth_token=True if model_args.use_auth_token else None,\n",
    "    )\n",
    "    \n",
    "    # if s3 path model, use s5cmd to download the model to /tmp/orignal/ for model load\n",
    "\n",
    "    if \"s3\" in model_args.model_name_or_path:\n",
    "        os.system(\"cp ./s5cmd  /tmp/ && chmod +x /tmp/s5cmd\")\n",
    "        os.system(\"/tmp/s5cmd sync {0} {1}\".format(model_args.model_name_or_path + \"*\", \"/tmp/orignal/\"))\n",
    "        model_args.model_name_or_path = \"/tmp/orignal/\"\n",
    "\n",
    "    # Load pretrained model and tokenizer\n",
    "    config = AutoConfig.from_pretrained(model_args.model_name_or_path, trust_remote_code=True)\n",
    "    config.pre_seq_len = model_args.pre_seq_len\n",
    "    config.prefix_projection = model_args.prefix_projection\n",
    "\n",
    "    tokenizer = AutoTokenizer.from_pretrained(model_args.model_name_or_path, trust_remote_code=True)\n",
    "\n",
    "    if model_args.ptuning_checkpoint is not None:\n",
    "        # Evaluation\n",
    "        # Loading extra state dict of prefix encoder\n",
    "        model = AutoModel.from_pretrained(model_args.model_name_or_path, config=config, trust_remote_code=True)\n",
    "        prefix_state_dict = torch.load(os.path.join(model_args.ptuning_checkpoint, \"pytorch_model.bin\"))\n",
    "        new_prefix_state_dict = {}\n",
    "        for k, v in prefix_state_dict.items():\n",
    "            if k.startswith(\"transformer.prefix_encoder.\"):\n",
    "                new_prefix_state_dict[k[len(\"transformer.prefix_encoder.\"):]] = v\n",
    "        model.transformer.prefix_encoder.load_state_dict(new_prefix_state_dict)\n",
    "    else:\n",
    "        model = AutoModel.from_pretrained(model_args.model_name_or_path, config=config, trust_remote_code=True)\n",
    "\n",
    "    if model_args.quantization_bit is not None:\n",
    "        print(f\"Quantized to {model_args.quantization_bit} bit\")\n",
    "        model = model.quantize(model_args.quantization_bit)\n",
    "    if model_args.pre_seq_len is not None:\n",
    "        # P-tuning v2\n",
    "        model = model.half()\n",
    "        model.transformer.prefix_encoder.float()\n",
    "    else:\n",
    "        # Finetune\n",
    "        model = model.float()\n",
    "\n",
    "    prefix = data_args.source_prefix if data_args.source_prefix is not None else \"\"\n",
    "\n",
    "    # Preprocessing the datasets.\n",
    "    # We need to tokenize inputs and targets.\n",
    "    if training_args.do_train:\n",
    "        column_names = raw_datasets[\"train\"].column_names\n",
    "    elif training_args.do_eval:\n",
    "        column_names = raw_datasets[\"validation\"].column_names\n",
    "    elif training_args.do_predict:\n",
    "        column_names = raw_datasets[\"test\"].column_names\n",
    "    else:\n",
    "        logger.info(\"There is nothing to do. Please pass `do_train`, `do_eval` and/or `do_predict`.\")\n",
    "        return\n",
    "\n",
    "    # Get the column names for input/target.\n",
    "    prompt_column = data_args.prompt_column\n",
    "    response_column = data_args.response_column\n",
    "    history_column = data_args.history_column\n",
    "    \n",
    "    # Temporarily set max_target_length for training.\n",
    "    max_target_length = data_args.max_target_length\n",
    "\n",
    "    def preprocess_function_eval(examples):\n",
    "        inputs, targets = [], []\n",
    "        for i in range(len(examples[prompt_column])):\n",
    "            if examples[prompt_column][i] and examples[response_column][i]:\n",
    "                query = examples[prompt_column][i]\n",
    "                if history_column is None or len(examples[history_column][i]) == 0:\n",
    "                    prompt = query\n",
    "                else:\n",
    "                    prompt = \"\"\n",
    "                    history = examples[history_column][i]\n",
    "                    for turn_idx, (old_query, response) in enumerate(history):\n",
    "                        prompt += \"[Round {}]\\n问：{}\\n答：{}\\n\".format(turn_idx, old_query, response)\n",
    "                    prompt += \"[Round {}]\\n问：{}\\n答：\".format(len(history), query)\n",
    "                inputs.append(prompt)\n",
    "                targets.append(examples[response_column][i])\n",
    "\n",
    "        inputs = [prefix + inp for inp in inputs]\n",
    "        model_inputs = tokenizer(inputs, max_length=data_args.max_source_length, truncation=True, padding=True)\n",
    "        labels = tokenizer(text_target=targets, max_length=max_target_length, truncation=True)\n",
    "\n",
    "        if data_args.ignore_pad_token_for_loss:\n",
    "            labels[\"input_ids\"] = [\n",
    "                [(l if l != tokenizer.pad_token_id else -100) for l in label] for label in labels[\"input_ids\"]\n",
    "            ]\n",
    "        model_inputs[\"labels\"] = labels[\"input_ids\"]\n",
    "\n",
    "        return model_inputs\n",
    "\n",
    "    def preprocess_function_train(examples):\n",
    "        max_seq_length = data_args.max_source_length + data_args.max_target_length\n",
    "\n",
    "        model_inputs = {\n",
    "            \"input_ids\": [],\n",
    "            \"labels\": [],\n",
    "        }\n",
    "        for i in range(len(examples[prompt_column])):\n",
    "            if examples[prompt_column][i] and examples[response_column][i]:\n",
    "                query, answer = examples[prompt_column][i], examples[response_column][i]\n",
    "\n",
    "                if history_column is None:\n",
    "                    prompt = query\n",
    "                else:\n",
    "                    prompt = \"\"\n",
    "                    history = examples[history_column][i]\n",
    "                    for turn_idx, (old_query, response) in enumerate(history):\n",
    "                        prompt += \"[Round {}]\\n问：{}\\n答：{}\\n\".format(turn_idx, old_query, response)\n",
    "                    prompt += \"[Round {}]\\n问：{}\\n答：\".format(len(history), query)\n",
    "\n",
    "                prompt = prefix + prompt\n",
    "                a_ids = tokenizer.encode(text=prompt, add_special_tokens=False)\n",
    "                b_ids = tokenizer.encode(text=answer, add_special_tokens=False)\n",
    "\n",
    "                if len(a_ids) > data_args.max_source_length - 1:\n",
    "                    a_ids = a_ids[: data_args.max_source_length - 1]\n",
    "\n",
    "                if len(b_ids) > data_args.max_target_length - 2:\n",
    "                    b_ids = b_ids[: data_args.max_target_length - 2]\n",
    "\n",
    "                input_ids = tokenizer.build_inputs_with_special_tokens(a_ids, b_ids)\n",
    "\n",
    "                context_length = input_ids.index(tokenizer.bos_token_id)\n",
    "                mask_position = context_length - 1\n",
    "                labels = [-100] * context_length + input_ids[mask_position+1:]\n",
    "                \n",
    "                pad_len = max_seq_length - len(input_ids)\n",
    "                input_ids = input_ids + [tokenizer.pad_token_id] * pad_len\n",
    "                labels = labels + [tokenizer.pad_token_id] * pad_len\n",
    "                if data_args.ignore_pad_token_for_loss:\n",
    "                    labels = [(l if l != tokenizer.pad_token_id else -100) for l in labels]\n",
    "\n",
    "                model_inputs[\"input_ids\"].append(input_ids)\n",
    "                model_inputs[\"labels\"].append(labels)\n",
    "\n",
    "        return model_inputs\n",
    "    \n",
    "    def print_dataset_example(example):\n",
    "        print(\"input_ids\",example[\"input_ids\"])\n",
    "        print(\"inputs\", tokenizer.decode(example[\"input_ids\"]))\n",
    "        print(\"label_ids\", example[\"labels\"])\n",
    "        print(\"labels\", tokenizer.decode(example[\"labels\"]))\n",
    "\n",
    "    if training_args.do_train:\n",
    "        if \"train\" not in raw_datasets:\n",
    "            raise ValueError(\"--do_train requires a train dataset\")\n",
    "        train_dataset = raw_datasets[\"train\"]\n",
    "        if data_args.max_train_samples is not None:\n",
    "            max_train_samples = min(len(train_dataset), data_args.max_train_samples)\n",
    "            train_dataset = train_dataset.select(range(max_train_samples))\n",
    "        with training_args.main_process_first(desc=\"train dataset map pre-processing\"):\n",
    "            train_dataset = train_dataset.map(\n",
    "                preprocess_function_train,\n",
    "                batched=True,\n",
    "                num_proc=data_args.preprocessing_num_workers,\n",
    "                remove_columns=column_names,\n",
    "                load_from_cache_file=not data_args.overwrite_cache,\n",
    "                desc=\"Running tokenizer on train dataset\",\n",
    "            )\n",
    "        print_dataset_example(train_dataset[0])\n",
    "\n",
    "    if training_args.do_eval:\n",
    "        max_target_length = data_args.val_max_target_length\n",
    "        if \"validation\" not in raw_datasets:\n",
    "            raise ValueError(\"--do_eval requires a validation dataset\")\n",
    "        eval_dataset = raw_datasets[\"validation\"]\n",
    "        if data_args.max_eval_samples is not None:\n",
    "            max_eval_samples = min(len(eval_dataset), data_args.max_eval_samples)\n",
    "            eval_dataset = eval_dataset.select(range(max_eval_samples))\n",
    "        with training_args.main_process_first(desc=\"validation dataset map pre-processing\"):\n",
    "            eval_dataset = eval_dataset.map(\n",
    "                preprocess_function_eval,\n",
    "                batched=True,\n",
    "                num_proc=data_args.preprocessing_num_workers,\n",
    "                remove_columns=column_names,\n",
    "                load_from_cache_file=not data_args.overwrite_cache,\n",
    "                desc=\"Running tokenizer on validation dataset\",\n",
    "            )\n",
    "        print_dataset_example(eval_dataset[0])\n",
    "\n",
    "    if training_args.do_predict:\n",
    "        max_target_length = data_args.val_max_target_length\n",
    "        if \"test\" not in raw_datasets:\n",
    "            raise ValueError(\"--do_predict requires a test dataset\")\n",
    "        predict_dataset = raw_datasets[\"test\"]\n",
    "        if data_args.max_predict_samples is not None:\n",
    "            max_predict_samples = min(len(predict_dataset), data_args.max_predict_samples)\n",
    "            predict_dataset = predict_dataset.select(range(max_predict_samples))\n",
    "        with training_args.main_process_first(desc=\"prediction dataset map pre-processing\"):\n",
    "            predict_dataset = predict_dataset.map(\n",
    "                preprocess_function_eval,\n",
    "                batched=True,\n",
    "                num_proc=data_args.preprocessing_num_workers,\n",
    "                remove_columns=column_names,\n",
    "                load_from_cache_file=not data_args.overwrite_cache,\n",
    "                desc=\"Running tokenizer on prediction dataset\",\n",
    "            )\n",
    "        print_dataset_example(predict_dataset[0])\n",
    "\n",
    "    # Data collator\n",
    "    label_pad_token_id = -100 if data_args.ignore_pad_token_for_loss else tokenizer.pad_token_id\n",
    "    data_collator = DataCollatorForSeq2Seq(\n",
    "        tokenizer,\n",
    "        model=model,\n",
    "        label_pad_token_id=label_pad_token_id,\n",
    "        pad_to_multiple_of=None,\n",
    "        padding=False\n",
    "    )\n",
    "\n",
    "    # Metric\n",
    "    def compute_metrics(eval_preds):\n",
    "        preds, labels = eval_preds\n",
    "        if isinstance(preds, tuple):\n",
    "            preds = preds[0]\n",
    "        decoded_preds = tokenizer.batch_decode(preds, skip_special_tokens=True)\n",
    "        if data_args.ignore_pad_token_for_loss:\n",
    "            # Replace -100 in the labels as we can't decode them.\n",
    "            labels = np.where(labels != -100, labels, tokenizer.pad_token_id)\n",
    "        decoded_labels = tokenizer.batch_decode(labels, skip_special_tokens=True)\n",
    "\n",
    "        score_dict = {\n",
    "            \"rouge-1\": [],\n",
    "            \"rouge-2\": [],\n",
    "            \"rouge-l\": [],\n",
    "            \"bleu-4\": []\n",
    "        }\n",
    "        for pred, label in zip(decoded_preds, decoded_labels):\n",
    "            hypothesis = list(jieba.cut(pred))\n",
    "            reference = list(jieba.cut(label))\n",
    "            rouge = Rouge()\n",
    "            scores = rouge.get_scores(' '.join(hypothesis) , ' '.join(reference))\n",
    "            result = scores[0]\n",
    "            \n",
    "            for k, v in result.items():\n",
    "                score_dict[k].append(round(v[\"f\"] * 100, 4))\n",
    "            bleu_score = sentence_bleu([list(label)], list(pred), smoothing_function=SmoothingFunction().method3)\n",
    "            score_dict[\"bleu-4\"].append(round(bleu_score * 100, 4))\n",
    "\n",
    "        for k, v in score_dict.items():\n",
    "            score_dict[k] = float(np.mean(v))\n",
    "        return score_dict\n",
    "\n",
    "    # Override the decoding parameters of Seq2SeqTrainer\n",
    "    training_args.generation_max_length = (\n",
    "        training_args.generation_max_length\n",
    "        if training_args.generation_max_length is not None\n",
    "        else data_args.val_max_target_length\n",
    "    )\n",
    "    training_args.generation_num_beams = (\n",
    "        data_args.num_beams if data_args.num_beams is not None else training_args.generation_num_beams\n",
    "    )\n",
    "    # Initialize our Trainer\n",
    "    trainer = Seq2SeqTrainer(\n",
    "        model=model,\n",
    "        args=training_args,\n",
    "        train_dataset=train_dataset if training_args.do_train else None,\n",
    "        eval_dataset=eval_dataset if training_args.do_eval else None,\n",
    "        tokenizer=tokenizer,\n",
    "        data_collator=data_collator,\n",
    "        compute_metrics=compute_metrics if training_args.predict_with_generate else None,\n",
    "        save_prefixencoder=model_args.pre_seq_len is not None\n",
    "    )\n",
    "\n",
    "    # Training\n",
    "    if training_args.do_train:\n",
    "        checkpoint = None\n",
    "        if training_args.resume_from_checkpoint is not None:\n",
    "            checkpoint = training_args.resume_from_checkpoint\n",
    "        # elif last_checkpoint is not None:\n",
    "        #     checkpoint = last_checkpoint\n",
    "        model.gradient_checkpointing_enable()\n",
    "        model.enable_input_require_grads()\n",
    "        train_result = trainer.train(resume_from_checkpoint=checkpoint)\n",
    "        # trainer.save_model()  # Saves the tokenizer too for easy upload\n",
    "\n",
    "        metrics = train_result.metrics\n",
    "        max_train_samples = (\n",
    "            data_args.max_train_samples if data_args.max_train_samples is not None else len(train_dataset)\n",
    "        )\n",
    "        metrics[\"train_samples\"] = min(max_train_samples, len(train_dataset))\n",
    "\n",
    "        trainer.log_metrics(\"train\", metrics)\n",
    "        trainer.save_metrics(\"train\", metrics)\n",
    "        trainer.save_state()\n",
    "        \n",
    "        print(\"------saving model!-----\")\n",
    "        \n",
    "        # save_model_dir = os.environ['OUTPUT_DIR']\n",
    "        save_model_dir = training_args.output_dir\n",
    "        tokenizer.save_pretrained(save_model_dir)\n",
    "        trainer.save_model(save_model_dir)\n",
    "        print(\"save_model_dir : {}\".format(save_model_dir))\n",
    "        print(\"------model is saved!-----\")\n",
    "        \n",
    "        os.system(\"./s5cmd sync {0} {1}\".format(save_model_dir, model_args.model_output_s3_path))\n",
    "\n",
    "        \n",
    "        # os.system(\"./s5cmd sync {0} {1}\".format(save_model_dir, os.environ['MODEL_OUTPUT_S3_PATH']))\n",
    "\n",
    "    # Evaluation\n",
    "    results = {}\n",
    "    max_seq_length = data_args.max_source_length + data_args.max_target_length + 1\n",
    "    if training_args.do_eval:\n",
    "        logger.info(\"*** Evaluate ***\")\n",
    "        metrics = trainer.evaluate(metric_key_prefix=\"eval\", do_sample=True, top_p=0.7, max_length=max_seq_length, temperature=0.95)\n",
    "        max_eval_samples = data_args.max_eval_samples if data_args.max_eval_samples is not None else len(eval_dataset)\n",
    "        metrics[\"eval_samples\"] = min(max_eval_samples, len(eval_dataset))\n",
    "\n",
    "        trainer.log_metrics(\"eval\", metrics)\n",
    "        trainer.save_metrics(\"eval\", metrics)\n",
    "\n",
    "    if training_args.do_predict:\n",
    "        logger.info(\"*** Predict ***\")\n",
    "        predict_results = trainer.predict(predict_dataset, metric_key_prefix=\"predict\", max_length=max_seq_length, do_sample=True, top_p=0.7, temperature=0.95)\n",
    "        metrics = predict_results.metrics\n",
    "        max_predict_samples = (\n",
    "            data_args.max_predict_samples if data_args.max_predict_samples is not None else len(predict_dataset)\n",
    "        )\n",
    "        metrics[\"predict_samples\"] = min(max_predict_samples, len(predict_dataset))\n",
    "\n",
    "        trainer.log_metrics(\"predict\", metrics)\n",
    "        trainer.save_metrics(\"predict\", metrics)\n",
    "\n",
    "        if trainer.is_world_process_zero():\n",
    "            if training_args.predict_with_generate:\n",
    "                predictions = tokenizer.batch_decode(\n",
    "                    predict_results.predictions, skip_special_tokens=True, clean_up_tokenization_spaces=True\n",
    "                )\n",
    "                predictions = [pred.strip() for pred in predictions]\n",
    "                labels = tokenizer.batch_decode(\n",
    "                    predict_results.label_ids, skip_special_tokens=True, clean_up_tokenization_spaces=True\n",
    "                )\n",
    "                labels = [label.strip() for label in labels]\n",
    "                output_prediction_file = os.path.join(training_args.output_dir, \"generated_predictions.txt\")\n",
    "                with open(output_prediction_file, \"w\", encoding=\"utf-8\") as writer:\n",
    "                    for p, l in zip(predictions, labels):\n",
    "                        res = json.dumps({\"labels\": l, \"predict\": p}, ensure_ascii=False)\n",
    "                        writer.write(f\"{res}\\n\")\n",
    "    return results\n",
    "\n",
    "\n",
    "def _mp_fn(index):\n",
    "    # For xla_spawn (TPUs)\n",
    "    main()\n",
    "\n",
    "\n",
    "if __name__ == \"__main__\":\n",
    "    main()\n"
   ]
  },
  {
   "cell_type": "code",
   "execution_count": null,
   "id": "bc67f35a-28d4-4f38-bb65-196b188feda4",
   "metadata": {
    "tags": []
   },
   "outputs": [],
   "source": [
    "%%writefile ChatGLM-6B/ptuning/requirements.txt\n",
    "\n",
    "protobuf\n",
    "#git+https://github.com/huggingface/transformers.git@68d640f7c368bcaaaecfc678f11908ebbd3d6176\n",
    "transformers==4.28.0\n",
    "cpm_kernels\n",
    "torch>=1.10\n",
    "gradio\n",
    "mdtex2html\n",
    "sentencepiece\n",
    "accelerate\n",
    "datasets\n",
    "huggingface\n",
    "jieba\n",
    "rouge_chinese\n",
    "nltk\n",
    "deepspeed==0.8.3"
   ]
  },
  {
   "cell_type": "code",
   "execution_count": null,
   "id": "7a8e27b9-97f1-48f7-bd89-4628177cfb82",
   "metadata": {
    "tags": []
   },
   "outputs": [],
   "source": [
    "! chmod +x s5cmd\n",
    "! cp s5cmd ChatGLM-6B/ptuning"
   ]
  },
  {
   "cell_type": "markdown",
   "id": "8dc02cda-64f1-4cae-b725-ed30a1d49420",
   "metadata": {},
   "source": [
    "## 3.2 准备微调镜像"
   ]
  },
  {
   "cell_type": "code",
   "execution_count": null,
   "id": "62922ff6-17b0-466a-ac61-b5beb5a3ae78",
   "metadata": {
    "tags": []
   },
   "outputs": [],
   "source": [
    "!chmod +x build_push.sh"
   ]
  },
  {
   "cell_type": "code",
   "execution_count": null,
   "id": "4b2945a7-8962-4956-a816-f3bf0e27c99f",
   "metadata": {
    "tags": []
   },
   "outputs": [],
   "source": [
    "! ./build_push.sh"
   ]
  },
  {
   "cell_type": "markdown",
   "id": "ecc87b3d-20fd-4775-882f-72f45038152c",
   "metadata": {
    "tags": []
   },
   "source": [
    "## 3.3 训练微调模型"
   ]
  },
  {
   "cell_type": "code",
   "execution_count": null,
   "id": "cb269f87-505a-4b94-bf19-3999ad0b9812",
   "metadata": {
    "tags": []
   },
   "outputs": [],
   "source": [
    "! docker run --runtime=nvidia -ti chatglm-finetune-ptuning:latest /bin/bash -c /opt/ml/code/sm_ptune_train.sh"
   ]
  },
  {
   "cell_type": "markdown",
   "id": "b19c0f95-e37b-45a3-9245-023dbbb9d2a7",
   "metadata": {},
   "source": [
    "# 4. 部署模型\n"
   ]
  },
  {
   "cell_type": "code",
   "execution_count": null,
   "id": "09a41700-2bfb-4723-8f6c-2b93ccd231a3",
   "metadata": {
    "tags": []
   },
   "outputs": [],
   "source": [
    "! pip install -r ./code/requirements.txt"
   ]
  },
  {
   "cell_type": "markdown",
   "id": "5242139d-46de-49e7-94d5-dfd2ff9aa424",
   "metadata": {},
   "source": [
    "## 4.1 部署原始模型"
   ]
  },
  {
   "cell_type": "code",
   "execution_count": null,
   "id": "133c6a15-a565-4a70-beb3-41bca338a28b",
   "metadata": {
    "tags": []
   },
   "outputs": [],
   "source": [
    "import sys\n",
    "import json\n",
    "import traceback\n",
    "from transformers import AutoTokenizer, AutoModel\n",
    "\n",
    "\n",
    "tokenizer_original = AutoTokenizer.from_pretrained(\"THUDM/chatglm-6b\", trust_remote_code=True)\n",
    "model_original = AutoModel.from_pretrained(\"THUDM/chatglm-6b\", trust_remote_code=True).half().cuda()"
   ]
  },
  {
   "cell_type": "code",
   "execution_count": null,
   "id": "ad285261-b449-4a71-b1ba-6216f7c6fcd8",
   "metadata": {
    "tags": []
   },
   "outputs": [],
   "source": [
    "text = \"类型#上衣\\*材质#牛仔布\\*颜色#白色\\*风格#简约\\*图案#刺绣\\*衣样式#外套\\*衣款式#破洞\"\n",
    "response_original, history = model.chat(tokenizer_original, text, history=[])\n",
    "\n",
    "print(response_original)"
   ]
  },
  {
   "cell_type": "code",
   "execution_count": null,
   "id": "adb16f4b-03f5-444a-935c-86f9bcd8702d",
   "metadata": {
    "tags": []
   },
   "outputs": [],
   "source": [
    "text = \"你好\"\n",
    "response, history = model.chat(tokenizer, text, history=[])\n",
    "\n",
    "print(response)"
   ]
  },
  {
   "cell_type": "markdown",
   "id": "130da955-4a54-4a85-9212-027d2204d5e9",
   "metadata": {},
   "source": [
    "## 4.2 部署微调模型"
   ]
  },
  {
   "cell_type": "code",
   "execution_count": null,
   "id": "92862bfb-0708-4841-b4c8-a1a03ecb683e",
   "metadata": {
    "tags": []
   },
   "outputs": [],
   "source": [
    "model_name_or_path = 's3://{}/llm/models/chatglm/original-6B/'.format(sagemaker_default_bucket)\n",
    "finetune_model_name_or_path = 's3://{}/llm/models/chatglm/finetune-ptuning-adgen-notebook/adgen-chatglm-6b-ft/checkpoint-50/pytorch_model.bin'.format(sagemaker_default_bucket)"
   ]
  },
  {
   "cell_type": "code",
   "execution_count": null,
   "id": "e1098f4e-05f6-484d-8354-ba8d6e161801",
   "metadata": {
    "tags": []
   },
   "outputs": [],
   "source": [
    "import os\n",
    "\n",
    "os.system(\"chmod +x s5cmd\")\n",
    "os.system(\"./s5cmd sync {0} {1}\".format(model_name_or_path + \"*\", \"./models/chatglm-orignal/\"))\n",
    "os.system(\"./s5cmd sync {0} {1}\".format(finetune_model_name_or_path + \"*\", \"./models/chatglm-finetune/\"))\n",
    "\n"
   ]
  },
  {
   "cell_type": "code",
   "execution_count": null,
   "id": "3ffc48bd-0856-426f-98b2-5817a1c6e1bd",
   "metadata": {
    "tags": []
   },
   "outputs": [],
   "source": [
    "import sys\n",
    "import json\n",
    "import traceback\n",
    "import torch\n",
    "from transformers import AutoTokenizer, AutoModel, AutoConfig\n",
    "\n",
    "pre_seq_len=128\n",
    "model_name_or_path = \"./models/chatglm-orignal/\"\n",
    "tokenizer = AutoTokenizer.from_pretrained(model_name_or_path, trust_remote_code=True)\n",
    "config = AutoConfig.from_pretrained(model_name_or_path, trust_remote_code=True, pre_seq_len=pre_seq_len)\n",
    "model = AutoModel.from_pretrained(model_name_or_path, config=config, trust_remote_code=True)\n",
    "\n",
    "prefix_state_dict = torch.load(\"./models/chatglm-finetune/pytorch_model.bin\")\n",
    "\n",
    "new_prefix_state_dict = {}\n",
    "for k, v in prefix_state_dict.items():\n",
    "    new_prefix_state_dict[k[len(\"transformer.prefix_encoder.\"):]] = v\n",
    "model.transformer.prefix_encoder.load_state_dict(new_prefix_state_dict)\n",
    "\n",
    "model = model.quantize(4)\n",
    "model.half().cuda()"
   ]
  },
  {
   "cell_type": "code",
   "execution_count": null,
   "id": "84c26cc1-bd3d-46c7-94cb-39f7f2d83f26",
   "metadata": {
    "tags": []
   },
   "outputs": [],
   "source": [
    "text = \"类型#上衣\\*材质#牛仔布\\*颜色#白色\\*风格#简约\\*图案#刺绣\\*衣样式#外套\\*衣款式#破洞\"\n",
    "response, history = model.chat(tokenizer, text, history=[])\n",
    "\n",
    "print(response)"
   ]
  },
  {
   "cell_type": "code",
   "execution_count": null,
   "id": "176d5466-1332-483c-8964-39023cb2a797",
   "metadata": {},
   "outputs": [],
   "source": []
  },
  {
   "cell_type": "code",
   "execution_count": null,
   "id": "efe5ca3d-e793-4480-a6d7-b36d6f94e338",
   "metadata": {},
   "outputs": [],
   "source": []
  },
  {
   "cell_type": "code",
   "execution_count": null,
   "id": "217e1a97-fc74-4c80-8499-3c6da23ebb3c",
   "metadata": {},
   "outputs": [],
   "source": []
  },
  {
   "cell_type": "code",
   "execution_count": null,
   "id": "368908b2-375e-4ab9-9256-fca6ba1e7b16",
   "metadata": {},
   "outputs": [],
   "source": []
  },
  {
   "cell_type": "code",
   "execution_count": null,
   "id": "d057f959-8163-42ee-baf3-457aae02b338",
   "metadata": {},
   "outputs": [],
   "source": []
  },
  {
   "cell_type": "code",
   "execution_count": null,
   "id": "85f98f5b-1183-433c-964c-973a12a8f6e6",
   "metadata": {},
   "outputs": [],
   "source": []
  },
  {
   "cell_type": "code",
   "execution_count": null,
   "id": "973d4377-8631-4421-adb2-6c03d02ed76e",
   "metadata": {},
   "outputs": [],
   "source": []
  },
  {
   "cell_type": "code",
   "execution_count": null,
   "id": "d7a622b5-8ff9-4bb1-8c8d-48ba3aed819f",
   "metadata": {},
   "outputs": [],
   "source": []
  },
  {
   "cell_type": "code",
   "execution_count": null,
   "id": "7e178aaa-6020-48b4-95fa-c0c73eb1f12a",
   "metadata": {},
   "outputs": [],
   "source": []
  },
  {
   "cell_type": "code",
   "execution_count": null,
   "id": "bd5613a2-f71e-47e6-9bf1-9d54865579c9",
   "metadata": {},
   "outputs": [],
   "source": []
  },
  {
   "cell_type": "code",
   "execution_count": null,
   "id": "0d4c913e-c31b-48a1-999c-d1a94893eaef",
   "metadata": {},
   "outputs": [],
   "source": [
    "export PYTORCH_CUDA_ALLOC_CONF='max_split_size_mb:32'\n",
    "export TRAIN_DATASET='/opt/ml/input/data/AdvertiseGen/train.json'\n",
    "export TEST_DATASET='/opt/ml/input/data/AdvertiseGen/dev.json'\n",
    "export PROMPT_COLUMN='content'\n",
    "export RESPONSE_COLUMN='summary'\n",
    "export MODEL_NAME_OR_PATH='s3://sagemaker-us-west-2-928808346782/llm/models/chatglm/original-6B/'\n",
    "export OUTPUT_DIR='/opt/ml/model/adgen-chatglm-6b-ft'\n",
    "export MODEL_OUTPUT_S3_PATH='s3://sagemaker-us-west-2-928808346782/llm/models/chatglm/finetune-ptuning-adgen-notebook/'\n",
    "export TRAIN_STEPS=50"
   ]
  },
  {
   "cell_type": "code",
   "execution_count": null,
   "id": "4fa59d50-b5a5-4243-86fc-044b5d14072d",
   "metadata": {
    "tags": []
   },
   "outputs": [],
   "source": [
    "%%writefile env sagemaker_default_bucket=$sagemaker_default_bucket ChatGLM-6B/ptuning/sm_ptune_train.sh\n",
    "\n",
    "PYTORCH_CUDA_ALLOC_CONF='max_split_size_mb:32'\n",
    "TRAIN_DATASET='/opt/ml/input/data/AdvertiseGen/train.json'\n",
    "TEST_DATASET='/opt/ml/input/data/AdvertiseGen/dev.json'\n",
    "RESPONSE_COLUMN='summary'\n",
    "PROMPT_COLUMN='content'\n",
    "MODEL_NAME_OR_PATH='s3://${sagemaker_default_bucket}/llm/models/chatglm/original-6B/'\n",
    "OUTPUT_DIR='/opt/ml/model/adgen-chatglm-6b-ft'\n",
    "MODEL_OUTPUT_S3_PATH='s3://${sagemaker_default_bucket}/llm/models/chatglm/finetune-ptuning-adgen-notebook/'\n",
    "\n",
    "\n",
    "PRE_SEQ_LEN=128 && LR=2e-2 && CUDA_VISIBLE_DEVICES=0 python3 main.py \\\n",
    "    --do_train \\\n",
    "    --train_file ${TRAIN_DATASET} \\\n",
    "    --validation_file ${TEST_DATASET} \\\n",
    "    --prompt_column ${PROMPT_COLUMN} \\\n",
    "    --response_column ${RESPONSE_COLUMN}  \\\n",
    "    --overwrite_cache \\\n",
    "    --model_name_or_path ${MODEL_NAME_OR_PATH} \\\n",
    "    --model_output_s3_path ${MODEL_OUTPUT_S3_PATH} \\\n",
    "    --output_dir ${OUTPUT_DIR} \\\n",
    "    --overwrite_output_dir \\\n",
    "    --max_source_length 64 \\\n",
    "    --max_target_length 64 \\\n",
    "    --per_device_train_batch_size 4 \\\n",
    "    --per_device_eval_batch_size 1 \\\n",
    "    --gradient_accumulation_steps 4 \\\n",
    "    --predict_with_generate \\\n",
    "    --max_steps ${TRAIN_STEPS} \\\n",
    "    --logging_steps 10 \\\n",
    "    --save_steps ${TRAIN_STEPS} \\\n",
    "    --learning_rate ${LR} \\\n",
    "    --pre_seq_len ${PRE_SEQ_LEN} \\\n",
    "    --quantization_bit 4\n"
   ]
  },
  {
   "cell_type": "code",
   "execution_count": null,
   "id": "90e18be5-9c35-4cfd-aa25-fa9ac72ce3dc",
   "metadata": {
    "tags": []
   },
   "outputs": [],
   "source": [
    "! pip3 install -r ./code/requirements.txt"
   ]
  },
  {
   "cell_type": "code",
   "execution_count": null,
   "id": "ff9e13b5-e53e-40b3-a14b-c582f7ad7620",
   "metadata": {
    "tags": []
   },
   "outputs": [],
   "source": [
    "import sys\n",
    "import json\n",
    "import traceback\n",
    "from transformers import AutoTokenizer, AutoModel"
   ]
  },
  {
   "cell_type": "code",
   "execution_count": null,
   "id": "d322e216-937d-41b4-98b6-18f13b0b6af1",
   "metadata": {
    "tags": []
   },
   "outputs": [],
   "source": [
    "tokenizer = AutoTokenizer.from_pretrained(\"THUDM/chatglm-6b\", trust_remote_code=True)\n"
   ]
  },
  {
   "cell_type": "code",
   "execution_count": null,
   "id": "89e7164d-7e44-4c91-a025-f7d15f6bf159",
   "metadata": {
    "tags": []
   },
   "outputs": [],
   "source": [
    "model = AutoModel.from_pretrained(\"THUDM/chatglm-6b\", trust_remote_code=True).half().cuda()"
   ]
  },
  {
   "cell_type": "code",
   "execution_count": null,
   "id": "3edf084b-5240-419e-95fa-6313da3215a4",
   "metadata": {
    "tags": []
   },
   "outputs": [],
   "source": [
    "# result = answer(\"你好\", model=model)\n",
    "response, history = model.chat(tokenizer, \"类型#上衣\\*材质#牛仔布\\*颜色#白色\\*风格#简约\\*图案#刺绣\\*衣样式#外套\\*衣款式#破洞\", history=[])"
   ]
  },
  {
   "cell_type": "code",
   "execution_count": null,
   "id": "7c3bb953-fa82-4eb0-bb71-63ac42a21c6f",
   "metadata": {
    "tags": []
   },
   "outputs": [],
   "source": [
    "response"
   ]
  },
  {
   "cell_type": "markdown",
   "id": "a404b664-ec18-4985-9792-95607e8a147a",
   "metadata": {},
   "source": [
    "## 3.2 定义微调参数"
   ]
  },
  {
   "cell_type": "code",
   "execution_count": null,
   "id": "eea75cc1-c337-4ac6-9f93-e3d797acabb0",
   "metadata": {
    "tags": []
   },
   "outputs": [],
   "source": [
    "# Define Training Job Name\n",
    "import time\n",
    "from sagemaker.huggingface import HuggingFace\n",
    "\n",
    "job_name = f'huggingface-chatglm-finetune-ptuning-{time.strftime(\"%Y-%m-%d-%H-%M-%S\", time.localtime())}'\n",
    "\n",
    "instance_type  = \"ml.g4dn.2xlarge\"\n",
    "instance_count = 1\n",
    "\n",
    "# 基础模型存放地址\n",
    "# model_name_or_path = 'THUDM/chatglm-6b'\n",
    "model_name_or_path = 's3://{}/llm/models/chatglm/original-6B/'.format(sagemaker_default_bucket)\n",
    "\n",
    "# 微调模型输出地址\n",
    "output_dir         = '/opt/ml/model/adgen-chatglm-6b-ft'\n",
    "model_s3_path      = 's3://{}/llm/models/chatglm/finetune-ptuning-adgen/'.format(sagemaker_default_bucket)\n",
    "\n",
    "# 模型环境变量设置\n",
    "environment = {\n",
    "    'PYTORCH_CUDA_ALLOC_CONF': 'max_split_size_mb:32',\n",
    "    'TRAIN_DATASET'          : '/opt/ml/input/data/AdvertiseGen/train.json',\n",
    "    'TEST_DATASET'           : '/opt/ml/input/data/AdvertiseGen/dev.json',\n",
    "    'PROMPT_COLUMN'          : 'content',\n",
    "    'RESPONSE_COLUMN'        : 'summary',\n",
    "    'MODEL_NAME_OR_PATH'     : model_name_or_path,\n",
    "    'OUTPUT_DIR'             : output_dir,\n",
    "    'MODEL_OUTPUT_S3_PATH'   : model_s3_path,\n",
    "    'TRAIN_STEPS'            : '50'\n",
    "}\n",
    "\n",
    "inputs = {\n",
    "   'AdvertiseGen': f\"s3://{sagemaker_default_bucket}/llm/datasets/chatglm/AdvertiseGen/\"\n",
    "}"
   ]
  },
  {
   "cell_type": "code",
   "execution_count": null,
   "id": "5c85f6af-b9ae-4b4f-875d-9def9c676561",
   "metadata": {
    "tags": []
   },
   "outputs": [],
   "source": [
    "environment"
   ]
  },
  {
   "cell_type": "markdown",
   "id": "37dfe385-35fa-4b47-8a79-3984cf4e51f4",
   "metadata": {},
   "source": [
    "## 3.3 启动微调训练"
   ]
  },
  {
   "cell_type": "code",
   "execution_count": null,
   "id": "477cc154-af4c-480d-8f8a-d69fe3eca03b",
   "metadata": {
    "tags": []
   },
   "outputs": [],
   "source": [
    "# create the Estimator\n",
    "huggingface_estimator = HuggingFace(\n",
    "    entry_point          = 'sm_ptune_train.py',\n",
    "    source_dir           = './ChatGLM-6B/ptuning',\n",
    "    instance_type        = instance_type,\n",
    "    instance_count       = instance_count,\n",
    "    base_job_name        = job_name,\n",
    "    role                 = role,\n",
    "    script_mode          = True,\n",
    "    transformers_version = '4.26',\n",
    "    pytorch_version      = '1.13',\n",
    "    py_version           = 'py39',\n",
    "    environment          = environment\n",
    ")"
   ]
  },
  {
   "cell_type": "code",
   "execution_count": null,
   "id": "a2e0b9d1-7366-481e-a72e-b75f497221bc",
   "metadata": {
    "tags": []
   },
   "outputs": [],
   "source": [
    "huggingface_estimator.fit(inputs=inputs)"
   ]
  },
  {
   "cell_type": "markdown",
   "id": "0b48c6d6-b465-4cd7-bbc7-3ca3d2951dbb",
   "metadata": {},
   "source": [
    "# 4. 模型部署"
   ]
  },
  {
   "cell_type": "markdown",
   "id": "fc7b753e-a6b8-4bba-bff7-b094e1fce67c",
   "metadata": {},
   "source": [
    "# 4.1 获取Runtime资源配置"
   ]
  },
  {
   "cell_type": "code",
   "execution_count": null,
   "id": "d74b206e-6cd0-4b0c-8a91-0d924699f5c0",
   "metadata": {
    "tags": []
   },
   "outputs": [],
   "source": [
    "import boto3\n",
    "import sagemaker\n",
    "from sagemaker import get_execution_role\n",
    "\n",
    "sess                     = sagemaker.Session()\n",
    "role                     = get_execution_role()\n",
    "sagemaker_default_bucket = sess.default_bucket()\n",
    "\n",
    "account                  = sess.boto_session.client(\"sts\").get_caller_identity()[\"Account\"]\n",
    "region                   = sess.boto_session.region_name"
   ]
  },
  {
   "cell_type": "markdown",
   "id": "308a1edc-5090-4570-b3a6-0691b6304f50",
   "metadata": {
    "tags": []
   },
   "source": [
    "# 4.2 准备Dummy模型"
   ]
  },
  {
   "cell_type": "code",
   "execution_count": null,
   "id": "5da1ff4d-cc76-42fc-a711-8f822aed6a75",
   "metadata": {
    "tags": []
   },
   "outputs": [],
   "source": [
    "!touch dummy\n",
    "!tar czvf model.tar.gz dummy\n",
    "assets_dir = 's3://{0}/{1}/assets/'.format(sagemaker_default_bucket, 'chatglm')\n",
    "model_data = 's3://{0}/{1}/assets/model.tar.gz'.format(sagemaker_default_bucket, 'chatglm')\n",
    "!aws s3 cp model.tar.gz $assets_dir\n",
    "!rm -f dummy model.tar.gz"
   ]
  },
  {
   "cell_type": "markdown",
   "id": "c5d844ef-4b13-4ba9-add1-26d0c1913459",
   "metadata": {},
   "source": [
    "# 4.3 配置模型参数"
   ]
  },
  {
   "cell_type": "code",
   "execution_count": null,
   "id": "00d2c840-4ed1-4874-84c4-6c0309f3c552",
   "metadata": {
    "tags": []
   },
   "outputs": [],
   "source": [
    "model_name                  = None\n",
    "entry_point                 = 'chatglm-inference-finetune.py'\n",
    "framework_version           = '1.13.1'\n",
    "py_version                  = 'py39'\n",
    "base_model_name_or_path     = 's3://{}/llm/models/chatglm/original-6B/'.format(sagemaker_default_bucket)\n",
    "finetune_model_name_or_path = 's3://{}/llm/models/chatglm/finetune-ptuning-adgen/adgen-chatglm-6b-ft/checkpoint-50/pytorch_model.bin'.format(sagemaker_default_bucket)\n",
    "\n",
    "# 模型环境变量设置\n",
    "model_environment  = {\n",
    "    'SAGEMAKER_MODEL_SERVER_TIMEOUT': '600',\n",
    "    'SAGEMAKER_MODEL_SERVER_WORKERS': '1',\n",
    "    'MODEL_NAME_OR_PATH'            : base_model_name_or_path,\n",
    "    'PRE_SEQ_LEN'                   : '128',\n",
    "    'FINETUNE_MODEL_NAME_OR_PATH'   : finetune_model_name_or_path,\n",
    "}\n"
   ]
  },
  {
   "cell_type": "code",
   "execution_count": null,
   "id": "076681b6-3064-4dd5-b9ca-83cedab9da2e",
   "metadata": {
    "tags": []
   },
   "outputs": [],
   "source": [
    "from sagemaker.pytorch.model import PyTorchModel\n",
    "\n",
    "model = PyTorchModel(\n",
    "    name              = model_name,\n",
    "    model_data        = model_data,\n",
    "    entry_point       = entry_point,\n",
    "    source_dir        = './code',\n",
    "    role              = role,\n",
    "    framework_version = framework_version, \n",
    "    py_version        = py_version,\n",
    "    env               = model_environment\n",
    ")"
   ]
  },
  {
   "cell_type": "code",
   "execution_count": null,
   "id": "13077f97-3549-46bf-b175-aee0aa050c6a",
   "metadata": {
    "tags": []
   },
   "outputs": [],
   "source": [
    "! chmod +x s5cmd\n",
    "! cp s5cmd code/"
   ]
  },
  {
   "cell_type": "markdown",
   "id": "2ebf89bb-5d55-4871-b339-506742d4c4a1",
   "metadata": {
    "tags": []
   },
   "source": [
    "# 4.4 部署微调模型"
   ]
  },
  {
   "cell_type": "code",
   "execution_count": null,
   "id": "92557cf7-950a-46ca-b58c-2e239bb02207",
   "metadata": {
    "tags": []
   },
   "outputs": [],
   "source": [
    "from sagemaker.serializers import JSONSerializer\n",
    "from sagemaker.deserializers import JSONDeserializer\n",
    "\n",
    "endpoint_name         = None\n",
    "instance_type         = 'ml.g4dn.2xlarge'\n",
    "instance_count        = 1\n",
    "\n",
    "predictor = model.deploy(\n",
    "    endpoint_name          = endpoint_name,\n",
    "    instance_type          = instance_type, \n",
    "    initial_instance_count = instance_count,\n",
    "    serializer             = JSONSerializer(),\n",
    "    deserializer           = JSONDeserializer()\n",
    ")"
   ]
  },
  {
   "cell_type": "markdown",
   "id": "f7e3c7af-c214-4db1-b2f7-0973f1f5eaa8",
   "metadata": {},
   "source": [
    "# 4.5 测试微调模型"
   ]
  },
  {
   "cell_type": "code",
   "execution_count": null,
   "id": "4edb8c37-13c3-4277-986e-aff82c85e39f",
   "metadata": {
    "tags": []
   },
   "outputs": [],
   "source": [
    "# Wait model loading\n",
    "\n",
    "import time\n",
    "\n",
    "time.sleep(300)"
   ]
  },
  {
   "cell_type": "code",
   "execution_count": null,
   "id": "b202bd61-2565-4ff8-b79a-811742391218",
   "metadata": {},
   "outputs": [],
   "source": [
    "inputs = {\n",
    "    \"ask\": \"类型#上衣\\*材质#牛仔布\\*颜色#白色\\*风格#简约\\*图案#刺绣\\*衣样式#外套\\*衣款式#破洞\"\n",
    "\n",
    "}\n",
    "\n",
    "response = predictor.predict(inputs)\n",
    "print(response[\"answer\"])\n"
   ]
  },
  {
   "cell_type": "code",
   "execution_count": null,
   "id": "116f8f17-d43a-464b-99f4-a745b9f8841b",
   "metadata": {},
   "outputs": [],
   "source": []
  }
 ],
 "metadata": {
  "kernelspec": {
   "display_name": "conda_python3",
   "language": "python",
   "name": "conda_python3"
  },
  "language_info": {
   "codemirror_mode": {
    "name": "ipython",
    "version": 3
   },
   "file_extension": ".py",
   "mimetype": "text/x-python",
   "name": "python",
   "nbconvert_exporter": "python",
   "pygments_lexer": "ipython3",
   "version": "3.10.8"
  }
 },
 "nbformat": 4,
 "nbformat_minor": 5
}
